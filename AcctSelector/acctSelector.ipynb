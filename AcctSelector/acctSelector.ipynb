{
 "cells": [
  {
   "cell_type": "code",
   "execution_count": 1,
   "metadata": {
    "collapsed": true
   },
   "outputs": [],
   "source": [
    "import pandas as pd\n",
    "from dfHelpers import cleanDf"
   ]
  },
  {
   "cell_type": "code",
   "execution_count": 2,
   "outputs": [],
   "source": [
    "fDir = f'Q:\\OdooMigration\\Accounting\\AcctSelector\\\\'\n",
    "fName = 'OdooAN_2021_10_8.xlsx'\n",
    "sheet = 'ACSelect'\n",
    "inputDf = pd.read_excel(fDir+fName,sheet_name=sheet)"
   ],
   "metadata": {
    "collapsed": false,
    "pycharm": {
     "name": "#%%\n"
    }
   }
  },
  {
   "cell_type": "code",
   "execution_count": 4,
   "outputs": [
    {
     "data": {
      "text/plain": "                           Name                   Type Code  OdooAcctCode  \\\n0                          Bank          Bank and Cash             101402   \n1                   Op Acct FCB          Bank and Cash             102200   \n2       COVID19 Checkiing - FCB          Bank and Cash             102500   \n3                   Payroll FCB          Bank and Cash             103300   \n4                 Svgs Acct FCB          Bank and Cash             106600   \n..                          ...                    ...  ...           ...   \n400                       VELwh                Expense  380        793800   \n401                   VELoffice                Expense  390        793900   \n402                       ALLwh                Expense  990        799900   \n403          Historical Expense                Expense  900        799999   \n239  Equity - Retained Earnings  Current Year Earnings             999999   \n\n     Parent       Notes         orderANs  SELECTABLE  SHIPPING BUILDING  \\\n0         0                       101402           0         0            \n1    101402              101402 - 102200           0         0            \n2    101402              101402 - 102500           0         0            \n3    101402              101402 - 103300           0         0            \n4    101402              101402 - 106600           0         0            \n..      ...         ...              ...         ...       ...      ...   \n400       0                       793800           1         0            \n401       0                       793900           1         0            \n402       0                       799900           1         0            \n403       0  do not use           799999           0         0            \n239       0                       999999           0         0            \n\n    COST_CENTER  TAXES  PrintOrder  \n0                    0           1  \n1                    0           1  \n2                    0           1  \n3                    0           1  \n4                    0           1  \n..          ...    ...         ...  \n400       VELwh      0          13  \n401   VELoffice      0          13  \n402       ALLwh      0          13  \n403                  0          13  \n239                  0          10  \n\n[423 rows x 13 columns]",
      "text/html": "<div>\n<style scoped>\n    .dataframe tbody tr th:only-of-type {\n        vertical-align: middle;\n    }\n\n    .dataframe tbody tr th {\n        vertical-align: top;\n    }\n\n    .dataframe thead th {\n        text-align: right;\n    }\n</style>\n<table border=\"1\" class=\"dataframe\">\n  <thead>\n    <tr style=\"text-align: right;\">\n      <th></th>\n      <th>Name</th>\n      <th>Type</th>\n      <th>Code</th>\n      <th>OdooAcctCode</th>\n      <th>Parent</th>\n      <th>Notes</th>\n      <th>orderANs</th>\n      <th>SELECTABLE</th>\n      <th>SHIPPING</th>\n      <th>BUILDING</th>\n      <th>COST_CENTER</th>\n      <th>TAXES</th>\n      <th>PrintOrder</th>\n    </tr>\n  </thead>\n  <tbody>\n    <tr>\n      <th>0</th>\n      <td>Bank</td>\n      <td>Bank and Cash</td>\n      <td></td>\n      <td>101402</td>\n      <td>0</td>\n      <td></td>\n      <td>101402</td>\n      <td>0</td>\n      <td>0</td>\n      <td></td>\n      <td></td>\n      <td>0</td>\n      <td>1</td>\n    </tr>\n    <tr>\n      <th>1</th>\n      <td>Op Acct FCB</td>\n      <td>Bank and Cash</td>\n      <td></td>\n      <td>102200</td>\n      <td>101402</td>\n      <td></td>\n      <td>101402 - 102200</td>\n      <td>0</td>\n      <td>0</td>\n      <td></td>\n      <td></td>\n      <td>0</td>\n      <td>1</td>\n    </tr>\n    <tr>\n      <th>2</th>\n      <td>COVID19 Checkiing - FCB</td>\n      <td>Bank and Cash</td>\n      <td></td>\n      <td>102500</td>\n      <td>101402</td>\n      <td></td>\n      <td>101402 - 102500</td>\n      <td>0</td>\n      <td>0</td>\n      <td></td>\n      <td></td>\n      <td>0</td>\n      <td>1</td>\n    </tr>\n    <tr>\n      <th>3</th>\n      <td>Payroll FCB</td>\n      <td>Bank and Cash</td>\n      <td></td>\n      <td>103300</td>\n      <td>101402</td>\n      <td></td>\n      <td>101402 - 103300</td>\n      <td>0</td>\n      <td>0</td>\n      <td></td>\n      <td></td>\n      <td>0</td>\n      <td>1</td>\n    </tr>\n    <tr>\n      <th>4</th>\n      <td>Svgs Acct FCB</td>\n      <td>Bank and Cash</td>\n      <td></td>\n      <td>106600</td>\n      <td>101402</td>\n      <td></td>\n      <td>101402 - 106600</td>\n      <td>0</td>\n      <td>0</td>\n      <td></td>\n      <td></td>\n      <td>0</td>\n      <td>1</td>\n    </tr>\n    <tr>\n      <th>...</th>\n      <td>...</td>\n      <td>...</td>\n      <td>...</td>\n      <td>...</td>\n      <td>...</td>\n      <td>...</td>\n      <td>...</td>\n      <td>...</td>\n      <td>...</td>\n      <td>...</td>\n      <td>...</td>\n      <td>...</td>\n      <td>...</td>\n    </tr>\n    <tr>\n      <th>400</th>\n      <td>VELwh</td>\n      <td>Expense</td>\n      <td>380</td>\n      <td>793800</td>\n      <td>0</td>\n      <td></td>\n      <td>793800</td>\n      <td>1</td>\n      <td>0</td>\n      <td></td>\n      <td>VELwh</td>\n      <td>0</td>\n      <td>13</td>\n    </tr>\n    <tr>\n      <th>401</th>\n      <td>VELoffice</td>\n      <td>Expense</td>\n      <td>390</td>\n      <td>793900</td>\n      <td>0</td>\n      <td></td>\n      <td>793900</td>\n      <td>1</td>\n      <td>0</td>\n      <td></td>\n      <td>VELoffice</td>\n      <td>0</td>\n      <td>13</td>\n    </tr>\n    <tr>\n      <th>402</th>\n      <td>ALLwh</td>\n      <td>Expense</td>\n      <td>990</td>\n      <td>799900</td>\n      <td>0</td>\n      <td></td>\n      <td>799900</td>\n      <td>1</td>\n      <td>0</td>\n      <td></td>\n      <td>ALLwh</td>\n      <td>0</td>\n      <td>13</td>\n    </tr>\n    <tr>\n      <th>403</th>\n      <td>Historical Expense</td>\n      <td>Expense</td>\n      <td>900</td>\n      <td>799999</td>\n      <td>0</td>\n      <td>do not use</td>\n      <td>799999</td>\n      <td>0</td>\n      <td>0</td>\n      <td></td>\n      <td></td>\n      <td>0</td>\n      <td>13</td>\n    </tr>\n    <tr>\n      <th>239</th>\n      <td>Equity - Retained Earnings</td>\n      <td>Current Year Earnings</td>\n      <td></td>\n      <td>999999</td>\n      <td>0</td>\n      <td></td>\n      <td>999999</td>\n      <td>0</td>\n      <td>0</td>\n      <td></td>\n      <td></td>\n      <td>0</td>\n      <td>10</td>\n    </tr>\n  </tbody>\n</table>\n<p>423 rows × 13 columns</p>\n</div>"
     },
     "execution_count": 4,
     "metadata": {},
     "output_type": "execute_result"
    }
   ],
   "source": [
    "inputDf = pd.read_excel(fDir+fName,sheet_name=sheet)\n",
    "intList = ['SELECTABLE','SHIPPING','TAXES']\n",
    "df = cleanDf(inputDf, intList)\n",
    "df.sort_values(by=['orderANs', 'PrintOrder'],inplace=True)\n",
    "df"
   ],
   "metadata": {
    "collapsed": false,
    "pycharm": {
     "name": "#%%\n"
    }
   }
  },
  {
   "cell_type": "code",
   "execution_count": 6,
   "outputs": [
    {
     "name": "stdout",
     "output_type": "stream",
     "text": [
      "types: ['Bank and Cash', 'Receivable', 'Current Assets', 'Prepayments', 'Non-current Assets', 'Expense', 'Current Liabilities', 'Payable', 'Non-current Liabilities', 'Equity', 'Income', 'Other Income', 'Cost of Revenue', 'Current Year Earnings']\n",
      "buildings: ['', 'MOR', 'NBR', 'VEL', 'ALL']\n",
      "cost_centers: ['', 'SM', 'MOR_SM_CUT', 'MOR_SM_OTH', 'MOR_SM_TUB', 'VEL_AS_ASY', 'VEL_AL_ALU', 'AL_AS', 'Sales', 'Operations', 'Engineering', 'Quality', 'IT', 'MORwh', 'MORoffice', 'NBRwh', 'NBRoffice', 'VELwh', 'VELoffice', 'ALLwh']\n",
      "['SELECTABLE', 'SHIPPING', 'TAXES']\n"
     ]
    }
   ],
   "source": [
    "selectDict = {'types':list(df['Type'].unique()), 'buildings': list(df['BUILDING'].unique()), 'cost_centers': list(df['COST_CENTER'].unique())}\n",
    "binaryList = ['SELECTABLE', 'SHIPPING','TAXES']\n",
    "for k in selectDict.keys():\n",
    "    print(f'{k}: {selectDict[k]}')\n",
    "print(binaryList)"
   ],
   "metadata": {
    "collapsed": false,
    "pycharm": {
     "name": "#%%\n"
    }
   }
  },
  {
   "cell_type": "code",
   "execution_count": null,
   "outputs": [],
   "source": [
    "inputDf.columns"
   ],
   "metadata": {
    "collapsed": false,
    "pycharm": {
     "name": "#%%\n"
    }
   }
  },
  {
   "cell_type": "code",
   "execution_count": 13,
   "outputs": [
    {
     "data": {
      "text/plain": "'types'"
     },
     "execution_count": 13,
     "metadata": {},
     "output_type": "execute_result"
    }
   ],
   "source": [
    "list(selectDict.keys())[0]"
   ],
   "metadata": {
    "collapsed": false,
    "pycharm": {
     "name": "#%%\n"
    }
   }
  },
  {
   "cell_type": "code",
   "execution_count": 18,
   "outputs": [
    {
     "data": {
      "text/plain": "['Bank and Cash',\n 'Receivable',\n 'Current Assets',\n 'Prepayments',\n 'Non-current Assets',\n 'Expense',\n 'Current Liabilities',\n 'Payable',\n 'Non-current Liabilities',\n 'Equity',\n 'Income',\n 'Other Income',\n 'Cost of Revenue',\n 'Current Year Earnings']"
     },
     "execution_count": 18,
     "metadata": {},
     "output_type": "execute_result"
    }
   ],
   "source": [
    "selectDict[list(selectDict.keys())[0]]"
   ],
   "metadata": {
    "collapsed": false,
    "pycharm": {
     "name": "#%%\n"
    }
   }
  },
  {
   "cell_type": "code",
   "execution_count": null,
   "outputs": [],
   "source": [],
   "metadata": {
    "collapsed": false,
    "pycharm": {
     "name": "#%%\n"
    }
   }
  }
 ],
 "metadata": {
  "kernelspec": {
   "display_name": "Python 3",
   "language": "python",
   "name": "python3"
  },
  "language_info": {
   "codemirror_mode": {
    "name": "ipython",
    "version": 2
   },
   "file_extension": ".py",
   "mimetype": "text/x-python",
   "name": "python",
   "nbconvert_exporter": "python",
   "pygments_lexer": "ipython2",
   "version": "2.7.6"
  }
 },
 "nbformat": 4,
 "nbformat_minor": 0
}